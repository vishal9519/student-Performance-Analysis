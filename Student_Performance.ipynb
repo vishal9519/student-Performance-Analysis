{
  "nbformat": 4,
  "nbformat_minor": 0,
  "metadata": {
    "colab": {
      "name": "Student Performance.ipynb",
      "version": "0.3.2",
      "provenance": [],
      "collapsed_sections": [],
      "include_colab_link": true
    },
    "kernelspec": {
      "name": "python3",
      "display_name": "Python 3"
    }
  },
  "cells": [
    {
      "cell_type": "markdown",
      "metadata": {
        "id": "view-in-github",
        "colab_type": "text"
      },
      "source": [
        "<a href=\"https://colab.research.google.com/github/roshank1605A04/Student-s-Performance-Analytics/blob/master/Student_Performance.ipynb\" target=\"_parent\"><img src=\"https://colab.research.google.com/assets/colab-badge.svg\" alt=\"Open In Colab\"/></a>"
      ]
    },
    {
      "metadata": {
        "id": "G7ZVqj3wV1Ry",
        "colab_type": "code",
        "colab": {}
      },
      "cell_type": "code",
      "source": [
        "import numpy as np\n",
        "import pandas as pd\n",
        "\n",
        "import matplotlib.pyplot as plt\n",
        "import seaborn as sns"
      ],
      "execution_count": 0,
      "outputs": []
    },
    {
      "metadata": {
        "id": "RiBBc-sEWTN5",
        "colab_type": "code",
        "outputId": "f0b50be4-b473-4383-d381-33c057fb8fb6",
        "colab": {
          "base_uri": "https://localhost:8080/",
          "height": 225
        }
      },
      "cell_type": "code",
      "source": [
        "data = pd.read_csv('drive/My Drive/Projects/Students Performance/StudentsPerformance.csv')\n",
        "\n",
        "print(data.shape)\n",
        "\n",
        "data.head()"
      ],
      "execution_count": 0,
      "outputs": [
        {
          "output_type": "stream",
          "text": [
            "(1000, 8)\n"
          ],
          "name": "stdout"
        },
        {
          "output_type": "execute_result",
          "data": {
            "text/html": [
              "<div>\n",
              "<style scoped>\n",
              "    .dataframe tbody tr th:only-of-type {\n",
              "        vertical-align: middle;\n",
              "    }\n",
              "\n",
              "    .dataframe tbody tr th {\n",
              "        vertical-align: top;\n",
              "    }\n",
              "\n",
              "    .dataframe thead th {\n",
              "        text-align: right;\n",
              "    }\n",
              "</style>\n",
              "<table border=\"1\" class=\"dataframe\">\n",
              "  <thead>\n",
              "    <tr style=\"text-align: right;\">\n",
              "      <th></th>\n",
              "      <th>gender</th>\n",
              "      <th>race/ethnicity</th>\n",
              "      <th>parental level of education</th>\n",
              "      <th>lunch</th>\n",
              "      <th>test preparation course</th>\n",
              "      <th>math score</th>\n",
              "      <th>reading score</th>\n",
              "      <th>writing score</th>\n",
              "    </tr>\n",
              "  </thead>\n",
              "  <tbody>\n",
              "    <tr>\n",
              "      <th>0</th>\n",
              "      <td>female</td>\n",
              "      <td>group B</td>\n",
              "      <td>bachelor's degree</td>\n",
              "      <td>standard</td>\n",
              "      <td>none</td>\n",
              "      <td>72</td>\n",
              "      <td>72</td>\n",
              "      <td>74</td>\n",
              "    </tr>\n",
              "    <tr>\n",
              "      <th>1</th>\n",
              "      <td>female</td>\n",
              "      <td>group C</td>\n",
              "      <td>some college</td>\n",
              "      <td>standard</td>\n",
              "      <td>completed</td>\n",
              "      <td>69</td>\n",
              "      <td>90</td>\n",
              "      <td>88</td>\n",
              "    </tr>\n",
              "    <tr>\n",
              "      <th>2</th>\n",
              "      <td>female</td>\n",
              "      <td>group B</td>\n",
              "      <td>master's degree</td>\n",
              "      <td>standard</td>\n",
              "      <td>none</td>\n",
              "      <td>90</td>\n",
              "      <td>95</td>\n",
              "      <td>93</td>\n",
              "    </tr>\n",
              "    <tr>\n",
              "      <th>3</th>\n",
              "      <td>male</td>\n",
              "      <td>group A</td>\n",
              "      <td>associate's degree</td>\n",
              "      <td>free/reduced</td>\n",
              "      <td>none</td>\n",
              "      <td>47</td>\n",
              "      <td>57</td>\n",
              "      <td>44</td>\n",
              "    </tr>\n",
              "    <tr>\n",
              "      <th>4</th>\n",
              "      <td>male</td>\n",
              "      <td>group C</td>\n",
              "      <td>some college</td>\n",
              "      <td>standard</td>\n",
              "      <td>none</td>\n",
              "      <td>76</td>\n",
              "      <td>78</td>\n",
              "      <td>75</td>\n",
              "    </tr>\n",
              "  </tbody>\n",
              "</table>\n",
              "</div>"
            ],
            "text/plain": [
              "   gender race/ethnicity parental level of education         lunch  \\\n",
              "0  female        group B           bachelor's degree      standard   \n",
              "1  female        group C                some college      standard   \n",
              "2  female        group B             master's degree      standard   \n",
              "3    male        group A          associate's degree  free/reduced   \n",
              "4    male        group C                some college      standard   \n",
              "\n",
              "  test preparation course  math score  reading score  writing score  \n",
              "0                    none          72             72             74  \n",
              "1               completed          69             90             88  \n",
              "2                    none          90             95             93  \n",
              "3                    none          47             57             44  \n",
              "4                    none          76             78             75  "
            ]
          },
          "metadata": {
            "tags": []
          },
          "execution_count": 168
        }
      ]
    },
    {
      "metadata": {
        "id": "EGC_GP4-Wll0",
        "colab_type": "code",
        "outputId": "5236fee8-f525-40ab-8cbd-aa8f9dee483d",
        "colab": {
          "base_uri": "https://localhost:8080/",
          "height": 223
        }
      },
      "cell_type": "code",
      "source": [
        "data.tail()"
      ],
      "execution_count": 0,
      "outputs": [
        {
          "output_type": "execute_result",
          "data": {
            "text/html": [
              "<div>\n",
              "<style scoped>\n",
              "    .dataframe tbody tr th:only-of-type {\n",
              "        vertical-align: middle;\n",
              "    }\n",
              "\n",
              "    .dataframe tbody tr th {\n",
              "        vertical-align: top;\n",
              "    }\n",
              "\n",
              "    .dataframe thead th {\n",
              "        text-align: right;\n",
              "    }\n",
              "</style>\n",
              "<table border=\"1\" class=\"dataframe\">\n",
              "  <thead>\n",
              "    <tr style=\"text-align: right;\">\n",
              "      <th></th>\n",
              "      <th>gender</th>\n",
              "      <th>race/ethnicity</th>\n",
              "      <th>parental level of education</th>\n",
              "      <th>lunch</th>\n",
              "      <th>test preparation course</th>\n",
              "      <th>math score</th>\n",
              "      <th>reading score</th>\n",
              "      <th>writing score</th>\n",
              "    </tr>\n",
              "  </thead>\n",
              "  <tbody>\n",
              "    <tr>\n",
              "      <th>995</th>\n",
              "      <td>female</td>\n",
              "      <td>group E</td>\n",
              "      <td>master's degree</td>\n",
              "      <td>standard</td>\n",
              "      <td>completed</td>\n",
              "      <td>88</td>\n",
              "      <td>99</td>\n",
              "      <td>95</td>\n",
              "    </tr>\n",
              "    <tr>\n",
              "      <th>996</th>\n",
              "      <td>male</td>\n",
              "      <td>group C</td>\n",
              "      <td>high school</td>\n",
              "      <td>free/reduced</td>\n",
              "      <td>none</td>\n",
              "      <td>62</td>\n",
              "      <td>55</td>\n",
              "      <td>55</td>\n",
              "    </tr>\n",
              "    <tr>\n",
              "      <th>997</th>\n",
              "      <td>female</td>\n",
              "      <td>group C</td>\n",
              "      <td>high school</td>\n",
              "      <td>free/reduced</td>\n",
              "      <td>completed</td>\n",
              "      <td>59</td>\n",
              "      <td>71</td>\n",
              "      <td>65</td>\n",
              "    </tr>\n",
              "    <tr>\n",
              "      <th>998</th>\n",
              "      <td>female</td>\n",
              "      <td>group D</td>\n",
              "      <td>some college</td>\n",
              "      <td>standard</td>\n",
              "      <td>completed</td>\n",
              "      <td>68</td>\n",
              "      <td>78</td>\n",
              "      <td>77</td>\n",
              "    </tr>\n",
              "    <tr>\n",
              "      <th>999</th>\n",
              "      <td>female</td>\n",
              "      <td>group D</td>\n",
              "      <td>some college</td>\n",
              "      <td>free/reduced</td>\n",
              "      <td>none</td>\n",
              "      <td>77</td>\n",
              "      <td>86</td>\n",
              "      <td>86</td>\n",
              "    </tr>\n",
              "  </tbody>\n",
              "</table>\n",
              "</div>"
            ],
            "text/plain": [
              "     gender race/ethnicity parental level of education         lunch  \\\n",
              "995  female        group E             master's degree      standard   \n",
              "996    male        group C                 high school  free/reduced   \n",
              "997  female        group C                 high school  free/reduced   \n",
              "998  female        group D                some college      standard   \n",
              "999  female        group D                some college  free/reduced   \n",
              "\n",
              "    test preparation course  math score  reading score  writing score  \n",
              "995               completed          88             99             95  \n",
              "996                    none          62             55             55  \n",
              "997               completed          59             71             65  \n",
              "998               completed          68             78             77  \n",
              "999                    none          77             86             86  "
            ]
          },
          "metadata": {
            "tags": []
          },
          "execution_count": 169
        }
      ]
    },
    {
      "metadata": {
        "id": "yQEEsbpSWpdG",
        "colab_type": "code",
        "outputId": "c664fcb3-0563-483a-8b79-d2f072a9f47e",
        "colab": {
          "base_uri": "https://localhost:8080/",
          "height": 261
        }
      },
      "cell_type": "code",
      "source": [
        "data.info()"
      ],
      "execution_count": 0,
      "outputs": [
        {
          "output_type": "stream",
          "text": [
            "<class 'pandas.core.frame.DataFrame'>\n",
            "RangeIndex: 1000 entries, 0 to 999\n",
            "Data columns (total 8 columns):\n",
            "gender                         1000 non-null object\n",
            "race/ethnicity                 1000 non-null object\n",
            "parental level of education    1000 non-null object\n",
            "lunch                          1000 non-null object\n",
            "test preparation course        1000 non-null object\n",
            "math score                     1000 non-null int64\n",
            "reading score                  1000 non-null int64\n",
            "writing score                  1000 non-null int64\n",
            "dtypes: int64(3), object(5)\n",
            "memory usage: 62.6+ KB\n"
          ],
          "name": "stdout"
        }
      ]
    },
    {
      "metadata": {
        "id": "p8qPdumvWsFi",
        "colab_type": "code",
        "outputId": "7e538d81-7631-42b2-875f-b053da212534",
        "colab": {
          "base_uri": "https://localhost:8080/",
          "height": 300
        }
      },
      "cell_type": "code",
      "source": [
        "data.describe()"
      ],
      "execution_count": 0,
      "outputs": [
        {
          "output_type": "execute_result",
          "data": {
            "text/html": [
              "<div>\n",
              "<style scoped>\n",
              "    .dataframe tbody tr th:only-of-type {\n",
              "        vertical-align: middle;\n",
              "    }\n",
              "\n",
              "    .dataframe tbody tr th {\n",
              "        vertical-align: top;\n",
              "    }\n",
              "\n",
              "    .dataframe thead th {\n",
              "        text-align: right;\n",
              "    }\n",
              "</style>\n",
              "<table border=\"1\" class=\"dataframe\">\n",
              "  <thead>\n",
              "    <tr style=\"text-align: right;\">\n",
              "      <th></th>\n",
              "      <th>math score</th>\n",
              "      <th>reading score</th>\n",
              "      <th>writing score</th>\n",
              "    </tr>\n",
              "  </thead>\n",
              "  <tbody>\n",
              "    <tr>\n",
              "      <th>count</th>\n",
              "      <td>1000.00000</td>\n",
              "      <td>1000.000000</td>\n",
              "      <td>1000.000000</td>\n",
              "    </tr>\n",
              "    <tr>\n",
              "      <th>mean</th>\n",
              "      <td>66.08900</td>\n",
              "      <td>69.169000</td>\n",
              "      <td>68.054000</td>\n",
              "    </tr>\n",
              "    <tr>\n",
              "      <th>std</th>\n",
              "      <td>15.16308</td>\n",
              "      <td>14.600192</td>\n",
              "      <td>15.195657</td>\n",
              "    </tr>\n",
              "    <tr>\n",
              "      <th>min</th>\n",
              "      <td>0.00000</td>\n",
              "      <td>17.000000</td>\n",
              "      <td>10.000000</td>\n",
              "    </tr>\n",
              "    <tr>\n",
              "      <th>25%</th>\n",
              "      <td>57.00000</td>\n",
              "      <td>59.000000</td>\n",
              "      <td>57.750000</td>\n",
              "    </tr>\n",
              "    <tr>\n",
              "      <th>50%</th>\n",
              "      <td>66.00000</td>\n",
              "      <td>70.000000</td>\n",
              "      <td>69.000000</td>\n",
              "    </tr>\n",
              "    <tr>\n",
              "      <th>75%</th>\n",
              "      <td>77.00000</td>\n",
              "      <td>79.000000</td>\n",
              "      <td>79.000000</td>\n",
              "    </tr>\n",
              "    <tr>\n",
              "      <th>max</th>\n",
              "      <td>100.00000</td>\n",
              "      <td>100.000000</td>\n",
              "      <td>100.000000</td>\n",
              "    </tr>\n",
              "  </tbody>\n",
              "</table>\n",
              "</div>"
            ],
            "text/plain": [
              "       math score  reading score  writing score\n",
              "count  1000.00000    1000.000000    1000.000000\n",
              "mean     66.08900      69.169000      68.054000\n",
              "std      15.16308      14.600192      15.195657\n",
              "min       0.00000      17.000000      10.000000\n",
              "25%      57.00000      59.000000      57.750000\n",
              "50%      66.00000      70.000000      69.000000\n",
              "75%      77.00000      79.000000      79.000000\n",
              "max     100.00000     100.000000     100.000000"
            ]
          },
          "metadata": {
            "tags": []
          },
          "execution_count": 171
        }
      ]
    },
    {
      "metadata": {
        "id": "2t2utISaWuH0",
        "colab_type": "code",
        "outputId": "c9c4dcd2-1b0b-49f5-9c57-15d93c8f874c",
        "colab": {
          "base_uri": "https://localhost:8080/",
          "height": 186
        }
      },
      "cell_type": "code",
      "source": [
        "data.isnull().sum()"
      ],
      "execution_count": 0,
      "outputs": [
        {
          "output_type": "execute_result",
          "data": {
            "text/plain": [
              "gender                         0\n",
              "race/ethnicity                 0\n",
              "parental level of education    0\n",
              "lunch                          0\n",
              "test preparation course        0\n",
              "math score                     0\n",
              "reading score                  0\n",
              "writing score                  0\n",
              "dtype: int64"
            ]
          },
          "metadata": {
            "tags": []
          },
          "execution_count": 172
        }
      ]
    },
    {
      "metadata": {
        "id": "b-u05ntqWw2y",
        "colab_type": "code",
        "outputId": "7efae39c-7258-47de-976f-941f969144bc",
        "colab": {
          "base_uri": "https://localhost:8080/",
          "height": 396
        }
      },
      "cell_type": "code",
      "source": [
        "# visualising the number of male and female in the dataset\n",
        "\n",
        "data['gender'].value_counts(normalize = True)\n",
        "data['gender'].value_counts(dropna = False).plot.bar(color = 'magenta')\n",
        "plt.title('Comparison of Males and Females')\n",
        "plt.xlabel('gender')\n",
        "plt.ylabel('count')\n",
        "plt.show()"
      ],
      "execution_count": 0,
      "outputs": [
        {
          "output_type": "display_data",
          "data": {
            "image/png": "[encoded data removed]",
            "text/plain": [
              "<matplotlib.figure.Figure at 0x7f323f59f208>"
            ]
          },
          "metadata": {
            "tags": []
          }
        }
      ]
    },
    {
      "metadata": {
        "id": "NQiPqVqiW4Wa",
        "colab_type": "code",
        "outputId": "e5a583af-483d-4e11-e649-94feaf2a5b3a",
        "colab": {
          "base_uri": "https://localhost:8080/",
          "height": 401
        }
      },
      "cell_type": "code",
      "source": [
        "# visualizing the different groups in the dataset\n",
        "\n",
        "data['race/ethnicity'].value_counts(normalize = True)\n",
        "data['race/ethnicity'].value_counts(dropna = False).plot.bar(color = 'cyan')\n",
        "plt.title('Comparison of various groups')\n",
        "plt.xlabel('Groups')\n",
        "plt.ylabel('count')\n",
        "plt.show()"
      ],
      "execution_count": 0,
      "outputs": [
        {
          "output_type": "display_data",
          "data": {
            "image/png": "[encoded data removed]",
            "text/plain": [
              "<matplotlib.figure.Figure at 0x7f32360a69e8>"
            ]
          },
          "metadata": {
            "tags": []
          }
        }
      ]
    },
    {
      "metadata": {
        "id": "HuHz4ouB-McA",
        "colab_type": "code",
        "outputId": "17a911b5-7543-439a-9c69-1c4f9b6218ed",
        "colab": {
          "base_uri": "https://localhost:8080/",
          "height": 129
        }
      },
      "cell_type": "code",
      "source": [
        "data['race/ethnicity'].value_counts()"
      ],
      "execution_count": 0,
      "outputs": [
        {
          "output_type": "execute_result",
          "data": {
            "text/plain": [
              "group C    319\n",
              "group D    262\n",
              "group B    190\n",
              "group E    140\n",
              "group A     89\n",
              "Name: race/ethnicity, dtype: int64"
            ]
          },
          "metadata": {
            "tags": []
          },
          "execution_count": 175
        }
      ]
    },
    {
      "metadata": {
        "id": "G5B9KxHRW_D0",
        "colab_type": "code",
        "outputId": "c0a96572-aa93-4161-8ed9-1f8f48945ac2",
        "colab": {
          "base_uri": "https://localhost:8080/",
          "height": 449
        }
      },
      "cell_type": "code",
      "source": [
        "# visualizing the differnt parental education levels\n",
        "\n",
        "data['parental level of education'].value_counts(normalize = True)\n",
        "data['parental level of education'].value_counts(dropna = False).plot.bar()\n",
        "plt.title('Comparison of Parental Education')\n",
        "plt.xlabel('Degree')\n",
        "plt.ylabel('count')\n",
        "plt.show()"
      ],
      "execution_count": 0,
      "outputs": [
        {
          "output_type": "display_data",
          "data": {
            "image/png": "[encoded data removed]",
            "text/plain": [
              "<matplotlib.figure.Figure at 0x7f323605e160>"
            ]
          },
          "metadata": {
            "tags": []
          }
        }
      ]
    },
    {
      "metadata": {
        "id": "r8temzw0XFd1",
        "colab_type": "code",
        "outputId": "80a975e8-482b-4b43-9db1-970dd89e5221",
        "colab": {
          "base_uri": "https://localhost:8080/",
          "height": 422
        }
      },
      "cell_type": "code",
      "source": [
        "# visualizing different types of lunch \n",
        "\n",
        "data['lunch'].value_counts(normalize = True)\n",
        "data['lunch'].value_counts(dropna = False).plot.bar(color = 'yellow')\n",
        "plt.title('Comparison of different types of lunch')\n",
        "plt.xlabel('types of lunch')\n",
        "plt.ylabel('count')\n",
        "plt.show()"
      ],
      "execution_count": 0,
      "outputs": [
        {
          "output_type": "display_data",
          "data": {
            "image/png": "[encoded data removed]",
            "text/plain": [
              "<matplotlib.figure.Figure at 0x7f32360642e8>"
            ]
          },
          "metadata": {
            "tags": []
          }
        }
      ]
    },
    {
      "metadata": {
        "id": "CgO6Upe9XOMs",
        "colab_type": "code",
        "outputId": "5545fb2d-a20b-411f-af85-0f6a6b2b13e9",
        "colab": {
          "base_uri": "https://localhost:8080/",
          "height": 627
        }
      },
      "cell_type": "code",
      "source": [
        "# visualizing maths score\n",
        "\n",
        "data['math score'].value_counts(normalize = True)\n",
        "data['math score'].value_counts(dropna = False).plot.bar(figsize = (18, 10))\n",
        "plt.title('Comparison of math scores')\n",
        "plt.xlabel('score')\n",
        "plt.ylabel('count')\n",
        "plt.show()"
      ],
      "execution_count": 0,
      "outputs": [
        {
          "output_type": "display_data",
          "data": {
            "image/png": "[encoded data removed]",
            "text/plain": [
              "<matplotlib.figure.Figure at 0x7f3236089438>"
            ]
          },
          "metadata": {
            "tags": []
          }
        }
      ]
    },
    {
      "metadata": {
        "id": "nwoEGMVuTU89",
        "colab_type": "code",
        "outputId": "80fb69df-b0ba-4b29-b274-b32e1ddda724",
        "colab": {
          "base_uri": "https://localhost:8080/",
          "height": 627
        }
      },
      "cell_type": "code",
      "source": [
        "# visualizing reading score score\n",
        "\n",
        "data['reading score'].value_counts(normalize = True)\n",
        "data['reading score'].value_counts(dropna = False).plot.bar(figsize = (18, 10), color = 'orange')\n",
        "plt.title('Comparison of math scores')\n",
        "plt.xlabel('score')\n",
        "plt.ylabel('count')\n",
        "plt.show()"
      ],
      "execution_count": 0,
      "outputs": [
        {
          "output_type": "display_data",
          "data": {
            "image/png": "[encoded data removed]",
            "text/plain": [
              "<matplotlib.figure.Figure at 0x7f3235eda588>"
            ]
          },
          "metadata": {
            "tags": []
          }
        }
      ]
    },
    {
      "metadata": {
        "id": "04Y4oXmfdpnN",
        "colab_type": "code",
        "outputId": "65f0de4b-2e08-42cf-9df2-931af2ce18fb",
        "colab": {
          "base_uri": "https://localhost:8080/",
          "height": 627
        }
      },
      "cell_type": "code",
      "source": [
        "# visualizing writing score\n",
        "\n",
        "data['math score'].value_counts(normalize = True)\n",
        "data['math score'].value_counts(dropna = False).plot.bar(figsize = (18, 10), color = 'pink')\n",
        "plt.title('Comparison of math scores')\n",
        "plt.xlabel('score')\n",
        "plt.ylabel('count')\n",
        "plt.show()"
      ],
      "execution_count": 0,
      "outputs": [
        {
          "output_type": "display_data",
          "data": {
            "image/png": "[encoded data removed]",
            "text/plain": [
              "<matplotlib.figure.Figure at 0x7f3235d92160>"
            ]
          },
          "metadata": {
            "tags": []
          }
        }
      ]
    },
    {
      "metadata": {
        "id": "pfAaNUKvVGJY",
        "colab_type": "code",
        "outputId": "22ec3315-902c-4199-d5ef-72660cbb35fd",
        "colab": {
          "base_uri": "https://localhost:8080/",
          "height": 318
        }
      },
      "cell_type": "code",
      "source": [
        "# gender vs race/etnicity \n",
        "\n",
        "x = pd.crosstab(data['gender'], data['race/ethnicity'])\n",
        "x.div(x.sum(1).astype(float), axis = 0).plot(kind = 'bar', stacked = True, figsize = (4, 4))"
      ],
      "execution_count": 0,
      "outputs": [
        {
          "output_type": "execute_result",
          "data": {
            "text/plain": [
              "<matplotlib.axes._subplots.AxesSubplot at 0x7f3235b65240>"
            ]
          },
          "metadata": {
            "tags": []
          },
          "execution_count": 181
        },
        {
          "output_type": "display_data",
          "data": {
            "image/png": "[encoded data removed]",
            "text/plain": [
              "<matplotlib.figure.Figure at 0x7f3235b7b9e8>"
            ]
          },
          "metadata": {
            "tags": []
          }
        }
      ]
    },
    {
      "metadata": {
        "id": "oM5B03VaXH2f",
        "colab_type": "code",
        "outputId": "5bdb1a15-0aaa-4874-ff09-27b2b7adc182",
        "colab": {
          "base_uri": "https://localhost:8080/",
          "height": 324
        }
      },
      "cell_type": "code",
      "source": [
        "# comparison of race/ethnicity and parental level of education\n",
        "\n",
        "x = pd.crosstab(data['race/ethnicity'], data['parental level of education'])\n",
        "x.div(x.sum(1).astype(float), axis = 0).plot(kind = 'bar', stacked = 'True', figsize = (7, 4) )"
      ],
      "execution_count": 0,
      "outputs": [
        {
          "output_type": "execute_result",
          "data": {
            "text/plain": [
              "<matplotlib.axes._subplots.AxesSubplot at 0x7f3235a99668>"
            ]
          },
          "metadata": {
            "tags": []
          },
          "execution_count": 182
        },
        {
          "output_type": "display_data",
          "data": {
            "image/png": "[encoded data removed]",
            "text/plain": [
              "<matplotlib.figure.Figure at 0x7f3235bc3390>"
            ]
          },
          "metadata": {
            "tags": []
          }
        }
      ]
    },
    {
      "metadata": {
        "id": "hw0nW8fYZbkB",
        "colab_type": "code",
        "outputId": "62244083-effc-4763-cfb8-c042f64a7b7c",
        "colab": {
          "base_uri": "https://localhost:8080/",
          "height": 418
        }
      },
      "cell_type": "code",
      "source": [
        "# comparison of parental degree and test course\n",
        "\n",
        "sns.countplot(x = 'parental level of education', data = data, hue = 'test preparation course', palette = 'dark')\n",
        "plt.show()"
      ],
      "execution_count": 0,
      "outputs": [
        {
          "output_type": "stream",
          "text": [
            "/usr/local/lib/python3.6/dist-packages/seaborn/categorical.py:1468: FutureWarning: remove_na is deprecated and is a private function. Do not use.\n",
            "  stat_data = remove_na(group_data[hue_mask])\n"
          ],
          "name": "stderr"
        },
        {
          "output_type": "display_data",
          "data": {
            "image/png": "[encoded data removed]",
            "text/plain": [
              "<matplotlib.figure.Figure at 0x7f32360be5c0>"
            ]
          },
          "metadata": {
            "tags": []
          }
        }
      ]
    },
    {
      "metadata": {
        "id": "SG8Eojinal_D",
        "colab_type": "code",
        "outputId": "c886e57c-ba8a-46ba-ae31-21a465328cb0",
        "colab": {
          "base_uri": "https://localhost:8080/",
          "height": 418
        }
      },
      "cell_type": "code",
      "source": [
        "# comparison of race/ethnicity and test preparation course\n",
        "\n",
        "sns.countplot(x = 'race/ethnicity', data = data,  hue = 'test preparation course', palette = 'bright')\n",
        "plt.show()"
      ],
      "execution_count": 0,
      "outputs": [
        {
          "output_type": "stream",
          "text": [
            "/usr/local/lib/python3.6/dist-packages/seaborn/categorical.py:1468: FutureWarning: remove_na is deprecated and is a private function. Do not use.\n",
            "  stat_data = remove_na(group_data[hue_mask])\n"
          ],
          "name": "stderr"
        },
        {
          "output_type": "display_data",
          "data": {
            "image/png": "[encoded data removed]",
            "text/plain": [
              "<matplotlib.figure.Figure at 0x7f32360cd438>"
            ]
          },
          "metadata": {
            "tags": []
          }
        }
      ]
    },
    {
      "metadata": {
        "id": "5vtrMoiVb2KB",
        "colab_type": "code",
        "outputId": "fd215592-6b92-4974-dbc2-a83aa0c9c6a9",
        "colab": {
          "base_uri": "https://localhost:8080/",
          "height": 252
        }
      },
      "cell_type": "code",
      "source": [
        "# feature engineering on the data to visualize and solve the dataset more accurately\n",
        "\n",
        "# setting a passing mark for the students to pass on the three subjects individually\n",
        "passmarks = 40\n",
        "\n",
        "# creating a new column pass_math, this column will tell us whether the students are pass or fail\n",
        "data['pass_math'] = np.where(data['math score']< passmarks, 'Fail', 'Pass')\n",
        "data['pass_math'].value_counts(dropna = False).plot.bar(color = 'black', figsize = (5, 3))\n",
        "\n",
        "plt.title('Comparison of students passed or failed in maths')\n",
        "plt.xlabel('status')\n",
        "plt.ylabel('count')\n",
        "plt.show()"
      ],
      "execution_count": 0,
      "outputs": [
        {
          "output_type": "display_data",
          "data": {
            "image/png": "[encoded data removed]",
            "text/plain": [
              "<matplotlib.figure.Figure at 0x7f32360a06a0>"
            ]
          },
          "metadata": {
            "tags": []
          }
        }
      ]
    },
    {
      "metadata": {
        "id": "qsOJMDZkg3K5",
        "colab_type": "code",
        "outputId": "0069d22e-e62a-4b34-ff0f-3f4a5d6cca1e",
        "colab": {
          "base_uri": "https://localhost:8080/",
          "height": 73
        }
      },
      "cell_type": "code",
      "source": [
        "data['pass_math'].value_counts()"
      ],
      "execution_count": 0,
      "outputs": [
        {
          "output_type": "execute_result",
          "data": {
            "text/plain": [
              "Pass    960\n",
              "Fail     40\n",
              "Name: pass_math, dtype: int64"
            ]
          },
          "metadata": {
            "tags": []
          },
          "execution_count": 186
        }
      ]
    },
    {
      "metadata": {
        "id": "YlFzqNvVeaeS",
        "colab_type": "code",
        "outputId": "b4740ae9-6131-422f-addf-2029630cac13",
        "colab": {
          "base_uri": "https://localhost:8080/",
          "height": 252
        }
      },
      "cell_type": "code",
      "source": [
        "# creating a new column pass_math, this column will tell us whether the students are pass or fail\n",
        "data['pass_reading'] = np.where(data['reading score']< passmarks, 'Fail', 'Pass')\n",
        "data['pass_reading'].value_counts(dropna = False).plot.bar(color = 'brown', figsize = (5, 3))\n",
        "\n",
        "plt.title('Comparison of students passed or failed in maths')\n",
        "plt.xlabel('status')\n",
        "plt.ylabel('count')\n",
        "plt.show()"
      ],
      "execution_count": 0,
      "outputs": [
        {
          "output_type": "display_data",
          "data": {
            "image/png": "[encoded data removed]",
            "text/plain": [
              "<matplotlib.figure.Figure at 0x7f3235861eb8>"
            ]
          },
          "metadata": {
            "tags": []
          }
        }
      ]
    },
    {
      "metadata": {
        "id": "HyHpREyVhBdM",
        "colab_type": "code",
        "outputId": "99f80a0c-b1c9-4d6c-8baa-5b6cbe7aee52",
        "colab": {
          "base_uri": "https://localhost:8080/",
          "height": 73
        }
      },
      "cell_type": "code",
      "source": [
        "data['pass_reading'].value_counts(dropna = False)"
      ],
      "execution_count": 0,
      "outputs": [
        {
          "output_type": "execute_result",
          "data": {
            "text/plain": [
              "Pass    974\n",
              "Fail     26\n",
              "Name: pass_reading, dtype: int64"
            ]
          },
          "metadata": {
            "tags": []
          },
          "execution_count": 188
        }
      ]
    },
    {
      "metadata": {
        "id": "e_GAFUo0gZLF",
        "colab_type": "code",
        "outputId": "910f6067-933c-40a1-cd22-356a8c951005",
        "colab": {
          "base_uri": "https://localhost:8080/",
          "height": 252
        }
      },
      "cell_type": "code",
      "source": [
        "# creating a new column pass_math, this column will tell us whether the students are pass or fail\n",
        "data['pass_writing'] = np.where(data['writing score']< passmarks, 'Fail', 'Pass')\n",
        "data['pass_writing'].value_counts(dropna = False).plot.bar(color = 'blue', figsize = (5, 3))\n",
        "\n",
        "plt.title('Comparison of students passed or failed in maths')\n",
        "plt.xlabel('status')\n",
        "plt.ylabel('count')\n",
        "plt.show()"
      ],
      "execution_count": 0,
      "outputs": [
        {
          "output_type": "display_data",
          "data": {
            "image/png": "[encoded data removed]",
            "text/plain": [
              "<matplotlib.figure.Figure at 0x7f3235852668>"
            ]
          },
          "metadata": {
            "tags": []
          }
        }
      ]
    },
    {
      "metadata": {
        "id": "W5qlGHHJhUDP",
        "colab_type": "code",
        "outputId": "5b0b792e-c0c5-48df-c4c7-adb00bf14b80",
        "colab": {
          "base_uri": "https://localhost:8080/",
          "height": 539
        }
      },
      "cell_type": "code",
      "source": [
        "# computing the total score for each student\n",
        "\n",
        "data['total_score'] = data['math score'] + data['reading score'] + data['writing score']\n",
        "\n",
        "data['total_score'].value_counts(normalize = True)\n",
        "data['total_score'].value_counts(dropna = True).plot.bar(color = 'cyan', figsize = (40, 8))\n",
        "\n",
        "plt.title('comparison of total score of all the students')\n",
        "plt.xlabel('total score scored by the students')\n",
        "plt.ylabel('count')\n",
        "plt.show()"
      ],
      "execution_count": 0,
      "outputs": [
        {
          "output_type": "display_data",
          "data": {
            "image/png": "[encoded data removed]",
            "text/plain": [
              "<matplotlib.figure.Figure at 0x7f3235824c50>"
            ]
          },
          "metadata": {
            "tags": []
          }
        }
      ]
    },
    {
      "metadata": {
        "id": "0Jpy1FwCjJbG",
        "colab_type": "code",
        "outputId": "abaad66f-b7d7-4ae2-b6dc-cc0ef454e03e",
        "colab": {
          "base_uri": "https://localhost:8080/",
          "height": 621
        }
      },
      "cell_type": "code",
      "source": [
        "# computing percentage for each of the students\n",
        "# importing math library to use ceil\n",
        "from math import * \n",
        "\n",
        "data['percentage'] = data['total_score']/3\n",
        "\n",
        "for i in range(0, 1000):\n",
        "  data['percentage'][i] = ceil(data['percentage'][i])\n",
        "\n",
        "data['percentage'].value_counts(normalize = True)\n",
        "data['percentage'].value_counts(dropna = False).plot.bar(figsize = (16, 8), color = 'red')\n",
        "\n",
        "plt.title('Comparison of percentage scored by all the students')\n",
        "plt.xlabel('percentage score')\n",
        "plt.ylabel('count')\n",
        "plt.show()"
      ],
      "execution_count": 0,
      "outputs": [
        {
          "output_type": "stream",
          "text": [
            "/usr/local/lib/python3.6/dist-packages/ipykernel_launcher.py:6: SettingWithCopyWarning: \n",
            "A value is trying to be set on a copy of a slice from a DataFrame\n",
            "\n",
            "See the caveats in the documentation: http://pandas.pydata.org/pandas-docs/stable/indexing.html#indexing-view-versus-copy\n",
            "  \n"
          ],
          "name": "stderr"
        },
        {
          "output_type": "display_data",
          "data": {
            "image/png": "[encoded data removed]",
            "text/plain": [
              "<matplotlib.figure.Figure at 0x7f323d406390>"
            ]
          },
          "metadata": {
            "tags": []
          }
        }
      ]
    },
    {
      "metadata": {
        "id": "JP86Ohe7oBZA",
        "colab_type": "code",
        "outputId": "3de2b683-6ded-4e6e-f49f-aabcf13a27ea",
        "colab": {
          "base_uri": "https://localhost:8080/",
          "height": 251
        }
      },
      "cell_type": "code",
      "source": [
        "# checking which student is fail overall\n",
        "\n",
        "data['status'] = data.apply(lambda x : 'Fail' if x['pass_math'] == 'Fail' or \n",
        "                           x['pass_reading'] == 'Fail' or x['pass_writing'] == 'Fail'\n",
        "                           else 'pass', axis = 1)\n",
        "\n",
        "data['status'].value_counts(dropna = False).plot.bar(color = 'gray', figsize = (3, 3))\n",
        "plt.title('overall results')\n",
        "plt.xlabel('status')\n",
        "plt.ylabel('count')\n",
        "plt.show()"
      ],
      "execution_count": 0,
      "outputs": [
        {
          "output_type": "display_data",
          "data": {
            "image/png": "[encoded data removed]",
            "text/plain": [
              "<matplotlib.figure.Figure at 0x7f3235864fd0>"
            ]
          },
          "metadata": {
            "tags": []
          }
        }
      ]
    },
    {
      "metadata": {
        "id": "3druUjNTuCpg",
        "colab_type": "code",
        "outputId": "45f553fe-63c1-4c31-c5af-8d87d337bb08",
        "colab": {
          "base_uri": "https://localhost:8080/",
          "height": 148
        }
      },
      "cell_type": "code",
      "source": [
        "# Assigning grades to the grades according to the following criteria :\n",
        "# 0  - 40 marks : grade E\n",
        "# 41 - 60 marks : grade D\n",
        "# 60 - 70 marks : grade C\n",
        "# 70 - 80 marks : grade B\n",
        "# 80 - 90 marks : grade A\n",
        "# 90 - 100 marks : grade O\n",
        "\n",
        "def getgrade(percentage, status):\n",
        "  if status == 'Fail':\n",
        "    return 'E'\n",
        "  if(percentage >= 90):\n",
        "    return 'O'\n",
        "  if(percentage >= 80):\n",
        "    return 'A'\n",
        "  if(percentage >= 70):\n",
        "    return 'B'\n",
        "  if(percentage >= 60):\n",
        "    return 'C'\n",
        "  if(percentage >= 40):\n",
        "    return 'D'\n",
        "  else :\n",
        "    return 'E'\n",
        "\n",
        "data['grades'] = data.apply(lambda x: getgrade(x['percentage'], x['status']), axis = 1 )\n",
        "\n",
        "data['grades'].value_counts()"
      ],
      "execution_count": 0,
      "outputs": [
        {
          "output_type": "execute_result",
          "data": {
            "text/plain": [
              "B    260\n",
              "C    252\n",
              "D    223\n",
              "A    156\n",
              "O     58\n",
              "E     51\n",
              "Name: grades, dtype: int64"
            ]
          },
          "metadata": {
            "tags": []
          },
          "execution_count": 193
        }
      ]
    },
    {
      "metadata": {
        "id": "7eKwrPxG02aF",
        "colab_type": "code",
        "outputId": "3d6bc2f6-82d7-4519-d7f9-d1b76675e5be",
        "colab": {
          "base_uri": "https://localhost:8080/",
          "height": 401
        }
      },
      "cell_type": "code",
      "source": [
        "# plotting a pie chart for the distribution of various grades amongst the students\n",
        "\n",
        "labels = ['Grade 0', 'Grade A', 'Grade B', 'Grade C', 'Grade D', 'Grade E']\n",
        "sizes = [58, 156, 260, 252, 223, 51]\n",
        "colors = ['yellow', 'gold', 'lightskyblue', 'lightcoral', 'pink', 'cyan']\n",
        "explode = (0.0001, 0.0001, 0.0001, 0.0001, 0.0001, 0.0001)\n",
        "\n",
        "patches, texts = plt.pie(sizes, colors=colors, shadow=True, startangle=90)\n",
        "plt.legend(patches, labels)\n",
        "plt.axis('equal')\n",
        "plt.tight_layout()\n",
        "plt.show()"
      ],
      "execution_count": 0,
      "outputs": [
        {
          "output_type": "display_data",
          "data": {
            "image/png": "[encoded data removed]",
            "text/plain": [
              "<matplotlib.figure.Figure at 0x7f32359bd908>"
            ]
          },
          "metadata": {
            "tags": []
          }
        }
      ]
    },
    {
      "metadata": {
        "id": "qSTFx72A27Hp",
        "colab_type": "code",
        "outputId": "5dd0f3f9-2cc3-41f9-af64-5dc96cb85394",
        "colab": {
          "base_uri": "https://localhost:8080/",
          "height": 426
        }
      },
      "cell_type": "code",
      "source": [
        "# comparison parent's degree and their corresponding grades\n",
        "\n",
        "x = pd.crosstab(data['parental level of education'], data['grades'])\n",
        "x.div(x.sum(1).astype(float), axis = 0).plot(kind = 'bar', stacked = True, figsize = (9, 5))"
      ],
      "execution_count": 0,
      "outputs": [
        {
          "output_type": "execute_result",
          "data": {
            "text/plain": [
              "<matplotlib.axes._subplots.AxesSubplot at 0x7f3235957e80>"
            ]
          },
          "metadata": {
            "tags": []
          },
          "execution_count": 195
        },
        {
          "output_type": "display_data",
          "data": {
            "image/png": "[encoded data removed]",
            "text/plain": [
              "<matplotlib.figure.Figure at 0x7f323588a8d0>"
            ]
          },
          "metadata": {
            "tags": []
          }
        }
      ]
    },
    {
      "metadata": {
        "id": "Om9KcvtS6zoC",
        "colab_type": "code",
        "outputId": "7653c751-cecc-455a-ac69-26d4a231693e",
        "colab": {
          "base_uri": "https://localhost:8080/",
          "height": 418
        }
      },
      "cell_type": "code",
      "source": [
        "# for better visualization we will plot it again using seaborn\n",
        "\n",
        "sns.countplot(x = data['parental level of education'], data = data, hue = data['grades'], palette = 'pastel')\n",
        "plt.show()"
      ],
      "execution_count": 0,
      "outputs": [
        {
          "output_type": "stream",
          "text": [
            "/usr/local/lib/python3.6/dist-packages/seaborn/categorical.py:1468: FutureWarning: remove_na is deprecated and is a private function. Do not use.\n",
            "  stat_data = remove_na(group_data[hue_mask])\n"
          ],
          "name": "stderr"
        },
        {
          "output_type": "display_data",
          "data": {
            "image/png": "[encoded data removed]",
            "text/plain": [
              "<matplotlib.figure.Figure at 0x7f3235b85b70>"
            ]
          },
          "metadata": {
            "tags": []
          }
        }
      ]
    },
    {
      "metadata": {
        "id": "V6TBXagn5F7H",
        "colab_type": "code",
        "outputId": "de6f5eff-5403-4084-9b95-4085e19482d1",
        "colab": {
          "base_uri": "https://localhost:8080/",
          "height": 418
        }
      },
      "cell_type": "code",
      "source": [
        "# comparing the distribution of grades among males and females\n",
        "\n",
        "sns.countplot(x = data['grades'], data = data, hue = data['gender'], palette = 'cubehelix')\n",
        "#sns.palplot(sns.dark_palette('purple'))\n",
        "plt.show()"
      ],
      "execution_count": 0,
      "outputs": [
        {
          "output_type": "stream",
          "text": [
            "/usr/local/lib/python3.6/dist-packages/seaborn/categorical.py:1468: FutureWarning: remove_na is deprecated and is a private function. Do not use.\n",
            "  stat_data = remove_na(group_data[hue_mask])\n"
          ],
          "name": "stderr"
        },
        {
          "output_type": "display_data",
          "data": {
            "image/png": "[encoded data removed]",
            "text/plain": [
              "<matplotlib.figure.Figure at 0x7f3235bbf7b8>"
            ]
          },
          "metadata": {
            "tags": []
          }
        }
      ]
    },
    {
      "metadata": {
        "id": "fSEMQE4W87U4",
        "colab_type": "code",
        "outputId": "2d415ca5-5dd8-4c3f-d6ab-050405826c33",
        "colab": {
          "base_uri": "https://localhost:8080/",
          "height": 348
        }
      },
      "cell_type": "code",
      "source": [
        "data.head()"
      ],
      "execution_count": 0,
      "outputs": [
        {
          "output_type": "execute_result",
          "data": {
            "text/html": [
              "<div>\n",
              "<style scoped>\n",
              "    .dataframe tbody tr th:only-of-type {\n",
              "        vertical-align: middle;\n",
              "    }\n",
              "\n",
              "    .dataframe tbody tr th {\n",
              "        vertical-align: top;\n",
              "    }\n",
              "\n",
              "    .dataframe thead th {\n",
              "        text-align: right;\n",
              "    }\n",
              "</style>\n",
              "<table border=\"1\" class=\"dataframe\">\n",
              "  <thead>\n",
              "    <tr style=\"text-align: right;\">\n",
              "      <th></th>\n",
              "      <th>gender</th>\n",
              "      <th>race/ethnicity</th>\n",
              "      <th>parental level of education</th>\n",
              "      <th>lunch</th>\n",
              "      <th>test preparation course</th>\n",
              "      <th>math score</th>\n",
              "      <th>reading score</th>\n",
              "      <th>writing score</th>\n",
              "      <th>pass_math</th>\n",
              "      <th>pass_reading</th>\n",
              "      <th>pass_writing</th>\n",
              "      <th>total_score</th>\n",
              "      <th>percentage</th>\n",
              "      <th>status</th>\n",
              "      <th>grades</th>\n",
              "    </tr>\n",
              "  </thead>\n",
              "  <tbody>\n",
              "    <tr>\n",
              "      <th>0</th>\n",
              "      <td>female</td>\n",
              "      <td>group B</td>\n",
              "      <td>bachelor's degree</td>\n",
              "      <td>standard</td>\n",
              "      <td>none</td>\n",
              "      <td>72</td>\n",
              "      <td>72</td>\n",
              "      <td>74</td>\n",
              "      <td>Pass</td>\n",
              "      <td>Pass</td>\n",
              "      <td>Pass</td>\n",
              "      <td>218</td>\n",
              "      <td>73.0</td>\n",
              "      <td>pass</td>\n",
              "      <td>B</td>\n",
              "    </tr>\n",
              "    <tr>\n",
              "      <th>1</th>\n",
              "      <td>female</td>\n",
              "      <td>group C</td>\n",
              "      <td>some college</td>\n",
              "      <td>standard</td>\n",
              "      <td>completed</td>\n",
              "      <td>69</td>\n",
              "      <td>90</td>\n",
              "      <td>88</td>\n",
              "      <td>Pass</td>\n",
              "      <td>Pass</td>\n",
              "      <td>Pass</td>\n",
              "      <td>247</td>\n",
              "      <td>83.0</td>\n",
              "      <td>pass</td>\n",
              "      <td>A</td>\n",
              "    </tr>\n",
              "    <tr>\n",
              "      <th>2</th>\n",
              "      <td>female</td>\n",
              "      <td>group B</td>\n",
              "      <td>master's degree</td>\n",
              "      <td>standard</td>\n",
              "      <td>none</td>\n",
              "      <td>90</td>\n",
              "      <td>95</td>\n",
              "      <td>93</td>\n",
              "      <td>Pass</td>\n",
              "      <td>Pass</td>\n",
              "      <td>Pass</td>\n",
              "      <td>278</td>\n",
              "      <td>93.0</td>\n",
              "      <td>pass</td>\n",
              "      <td>O</td>\n",
              "    </tr>\n",
              "    <tr>\n",
              "      <th>3</th>\n",
              "      <td>male</td>\n",
              "      <td>group A</td>\n",
              "      <td>associate's degree</td>\n",
              "      <td>free/reduced</td>\n",
              "      <td>none</td>\n",
              "      <td>47</td>\n",
              "      <td>57</td>\n",
              "      <td>44</td>\n",
              "      <td>Pass</td>\n",
              "      <td>Pass</td>\n",
              "      <td>Pass</td>\n",
              "      <td>148</td>\n",
              "      <td>50.0</td>\n",
              "      <td>pass</td>\n",
              "      <td>D</td>\n",
              "    </tr>\n",
              "    <tr>\n",
              "      <th>4</th>\n",
              "      <td>male</td>\n",
              "      <td>group C</td>\n",
              "      <td>some college</td>\n",
              "      <td>standard</td>\n",
              "      <td>none</td>\n",
              "      <td>76</td>\n",
              "      <td>78</td>\n",
              "      <td>75</td>\n",
              "      <td>Pass</td>\n",
              "      <td>Pass</td>\n",
              "      <td>Pass</td>\n",
              "      <td>229</td>\n",
              "      <td>77.0</td>\n",
              "      <td>pass</td>\n",
              "      <td>B</td>\n",
              "    </tr>\n",
              "  </tbody>\n",
              "</table>\n",
              "</div>"
            ],
            "text/plain": [
              "   gender race/ethnicity parental level of education         lunch  \\\n",
              "0  female        group B           bachelor's degree      standard   \n",
              "1  female        group C                some college      standard   \n",
              "2  female        group B             master's degree      standard   \n",
              "3    male        group A          associate's degree  free/reduced   \n",
              "4    male        group C                some college      standard   \n",
              "\n",
              "  test preparation course  math score  reading score  writing score pass_math  \\\n",
              "0                    none          72             72             74      Pass   \n",
              "1               completed          69             90             88      Pass   \n",
              "2                    none          90             95             93      Pass   \n",
              "3                    none          47             57             44      Pass   \n",
              "4                    none          76             78             75      Pass   \n",
              "\n",
              "  pass_reading pass_writing  total_score  percentage status grades  \n",
              "0         Pass         Pass          218        73.0   pass      B  \n",
              "1         Pass         Pass          247        83.0   pass      A  \n",
              "2         Pass         Pass          278        93.0   pass      O  \n",
              "3         Pass         Pass          148        50.0   pass      D  \n",
              "4         Pass         Pass          229        77.0   pass      B  "
            ]
          },
          "metadata": {
            "tags": []
          },
          "execution_count": 198
        }
      ]
    },
    {
      "metadata": {
        "id": "du9CiE7c8ER7",
        "colab_type": "code",
        "outputId": "d2ffd396-abd0-42fb-d0a2-548a78401a24",
        "colab": {
          "base_uri": "https://localhost:8080/",
          "height": 300
        }
      },
      "cell_type": "code",
      "source": [
        "data.describe()"
      ],
      "execution_count": 0,
      "outputs": [
        {
          "output_type": "execute_result",
          "data": {
            "text/html": [
              "<div>\n",
              "<style scoped>\n",
              "    .dataframe tbody tr th:only-of-type {\n",
              "        vertical-align: middle;\n",
              "    }\n",
              "\n",
              "    .dataframe tbody tr th {\n",
              "        vertical-align: top;\n",
              "    }\n",
              "\n",
              "    .dataframe thead th {\n",
              "        text-align: right;\n",
              "    }\n",
              "</style>\n",
              "<table border=\"1\" class=\"dataframe\">\n",
              "  <thead>\n",
              "    <tr style=\"text-align: right;\">\n",
              "      <th></th>\n",
              "      <th>math score</th>\n",
              "      <th>reading score</th>\n",
              "      <th>writing score</th>\n",
              "      <th>total_score</th>\n",
              "      <th>percentage</th>\n",
              "    </tr>\n",
              "  </thead>\n",
              "  <tbody>\n",
              "    <tr>\n",
              "      <th>count</th>\n",
              "      <td>1000.00000</td>\n",
              "      <td>1000.000000</td>\n",
              "      <td>1000.000000</td>\n",
              "      <td>1000.000000</td>\n",
              "      <td>1000.000000</td>\n",
              "    </tr>\n",
              "    <tr>\n",
              "      <th>mean</th>\n",
              "      <td>66.08900</td>\n",
              "      <td>69.169000</td>\n",
              "      <td>68.054000</td>\n",
              "      <td>203.312000</td>\n",
              "      <td>68.105000</td>\n",
              "    </tr>\n",
              "    <tr>\n",
              "      <th>std</th>\n",
              "      <td>15.16308</td>\n",
              "      <td>14.600192</td>\n",
              "      <td>15.195657</td>\n",
              "      <td>42.771978</td>\n",
              "      <td>14.258095</td>\n",
              "    </tr>\n",
              "    <tr>\n",
              "      <th>min</th>\n",
              "      <td>0.00000</td>\n",
              "      <td>17.000000</td>\n",
              "      <td>10.000000</td>\n",
              "      <td>27.000000</td>\n",
              "      <td>9.000000</td>\n",
              "    </tr>\n",
              "    <tr>\n",
              "      <th>25%</th>\n",
              "      <td>57.00000</td>\n",
              "      <td>59.000000</td>\n",
              "      <td>57.750000</td>\n",
              "      <td>175.000000</td>\n",
              "      <td>59.000000</td>\n",
              "    </tr>\n",
              "    <tr>\n",
              "      <th>50%</th>\n",
              "      <td>66.00000</td>\n",
              "      <td>70.000000</td>\n",
              "      <td>69.000000</td>\n",
              "      <td>205.000000</td>\n",
              "      <td>69.000000</td>\n",
              "    </tr>\n",
              "    <tr>\n",
              "      <th>75%</th>\n",
              "      <td>77.00000</td>\n",
              "      <td>79.000000</td>\n",
              "      <td>79.000000</td>\n",
              "      <td>233.000000</td>\n",
              "      <td>78.000000</td>\n",
              "    </tr>\n",
              "    <tr>\n",
              "      <th>max</th>\n",
              "      <td>100.00000</td>\n",
              "      <td>100.000000</td>\n",
              "      <td>100.000000</td>\n",
              "      <td>300.000000</td>\n",
              "      <td>100.000000</td>\n",
              "    </tr>\n",
              "  </tbody>\n",
              "</table>\n",
              "</div>"
            ],
            "text/plain": [
              "       math score  reading score  writing score  total_score   percentage\n",
              "count  1000.00000    1000.000000    1000.000000  1000.000000  1000.000000\n",
              "mean     66.08900      69.169000      68.054000   203.312000    68.105000\n",
              "std      15.16308      14.600192      15.195657    42.771978    14.258095\n",
              "min       0.00000      17.000000      10.000000    27.000000     9.000000\n",
              "25%      57.00000      59.000000      57.750000   175.000000    59.000000\n",
              "50%      66.00000      70.000000      69.000000   205.000000    69.000000\n",
              "75%      77.00000      79.000000      79.000000   233.000000    78.000000\n",
              "max     100.00000     100.000000     100.000000   300.000000   100.000000"
            ]
          },
          "metadata": {
            "tags": []
          },
          "execution_count": 199
        }
      ]
    },
    {
      "metadata": {
        "id": "TGVw87JkX0rJ",
        "colab_type": "code",
        "outputId": "4947d499-85d4-4297-edda-959560307770",
        "colab": {
          "base_uri": "https://localhost:8080/",
          "height": 73
        }
      },
      "cell_type": "code",
      "source": [
        "from sklearn.preprocessing import LabelEncoder\n",
        "\n",
        "# creating an encoder\n",
        "le = LabelEncoder()\n",
        "\n",
        "# label encoding for test preparation course\n",
        "data['test preparation course'] = le.fit_transform(data['test preparation course'])\n",
        "data['test preparation course'].value_counts()"
      ],
      "execution_count": 0,
      "outputs": [
        {
          "output_type": "execute_result",
          "data": {
            "text/plain": [
              "1    642\n",
              "0    358\n",
              "Name: test preparation course, dtype: int64"
            ]
          },
          "metadata": {
            "tags": []
          },
          "execution_count": 200
        }
      ]
    },
    {
      "metadata": {
        "id": "23lY5N_PY-U-",
        "colab_type": "code",
        "outputId": "67fbccbd-c127-4047-ffd0-3d9dcfb023bd",
        "colab": {
          "base_uri": "https://localhost:8080/",
          "height": 73
        }
      },
      "cell_type": "code",
      "source": [
        "# label encoding for lunch\n",
        "\n",
        "data['lunch'] = le.fit_transform(data['lunch'])\n",
        "data['lunch'].value_counts()"
      ],
      "execution_count": 0,
      "outputs": [
        {
          "output_type": "execute_result",
          "data": {
            "text/plain": [
              "1    645\n",
              "0    355\n",
              "Name: lunch, dtype: int64"
            ]
          },
          "metadata": {
            "tags": []
          },
          "execution_count": 201
        }
      ]
    },
    {
      "metadata": {
        "id": "f_L3U8clZMuO",
        "colab_type": "code",
        "outputId": "b72d7ce0-52f7-43cd-fd00-812ed7ced612",
        "colab": {
          "base_uri": "https://localhost:8080/",
          "height": 129
        }
      },
      "cell_type": "code",
      "source": [
        "# label encoding for race/ethnicity\n",
        "# we have to map values to each of the categories\n",
        "\n",
        "data['race/ethnicity'] = data['race/ethnicity'].replace('group A', 1)\n",
        "data['race/ethnicity'] = data['race/ethnicity'].replace('group B', 2)\n",
        "data['race/ethnicity'] = data['race/ethnicity'].replace('group C', 3)\n",
        "data['race/ethnicity'] = data['race/ethnicity'].replace('group D', 4)\n",
        "data['race/ethnicity'] = data['race/ethnicity'].replace('group E', 5)\n",
        "\n",
        "data['race/ethnicity'].value_counts()"
      ],
      "execution_count": 0,
      "outputs": [
        {
          "output_type": "execute_result",
          "data": {
            "text/plain": [
              "3    319\n",
              "4    262\n",
              "2    190\n",
              "5    140\n",
              "1     89\n",
              "Name: race/ethnicity, dtype: int64"
            ]
          },
          "metadata": {
            "tags": []
          },
          "execution_count": 202
        }
      ]
    },
    {
      "metadata": {
        "id": "PpowtC99ZdPM",
        "colab_type": "code",
        "outputId": "eda1d827-15ab-4dd8-c3ed-85f56d55d2ff",
        "colab": {
          "base_uri": "https://localhost:8080/",
          "height": 148
        }
      },
      "cell_type": "code",
      "source": [
        "# label encoding for parental level of education\n",
        "\n",
        "data['parental level of education'] = le.fit_transform(data['parental level of education'])\n",
        "data['parental level of education'].value_counts()"
      ],
      "execution_count": 0,
      "outputs": [
        {
          "output_type": "execute_result",
          "data": {
            "text/plain": [
              "4    226\n",
              "0    222\n",
              "2    196\n",
              "5    179\n",
              "1    118\n",
              "3     59\n",
              "Name: parental level of education, dtype: int64"
            ]
          },
          "metadata": {
            "tags": []
          },
          "execution_count": 203
        }
      ]
    },
    {
      "metadata": {
        "id": "geX7js-LbEgB",
        "colab_type": "code",
        "outputId": "be192129-00b1-49b5-e66e-e4e2de1b446b",
        "colab": {
          "base_uri": "https://localhost:8080/",
          "height": 73
        }
      },
      "cell_type": "code",
      "source": [
        "# label encoding for gender\n",
        "\n",
        "data['gender'] = le.fit_transform(data['gender'])\n",
        "data['gender'].value_counts()"
      ],
      "execution_count": 0,
      "outputs": [
        {
          "output_type": "execute_result",
          "data": {
            "text/plain": [
              "0    518\n",
              "1    482\n",
              "Name: gender, dtype: int64"
            ]
          },
          "metadata": {
            "tags": []
          },
          "execution_count": 204
        }
      ]
    },
    {
      "metadata": {
        "id": "q_-OubIg-dOv",
        "colab_type": "code",
        "outputId": "8b9b2f10-decc-4900-9544-be7b790fdbd9",
        "colab": {
          "base_uri": "https://localhost:8080/",
          "height": 73
        }
      },
      "cell_type": "code",
      "source": [
        "# label encoding for pass_math\n",
        "\n",
        "data['pass_math'] = le.fit_transform(data['pass_math'])\n",
        "data['pass_math'].value_counts()"
      ],
      "execution_count": 0,
      "outputs": [
        {
          "output_type": "execute_result",
          "data": {
            "text/plain": [
              "1    960\n",
              "0     40\n",
              "Name: pass_math, dtype: int64"
            ]
          },
          "metadata": {
            "tags": []
          },
          "execution_count": 205
        }
      ]
    },
    {
      "metadata": {
        "id": "SEdTTzYK-y51",
        "colab_type": "code",
        "outputId": "0b1a7ae1-3d30-4434-ac6e-28674d542197",
        "colab": {
          "base_uri": "https://localhost:8080/",
          "height": 73
        }
      },
      "cell_type": "code",
      "source": [
        "# label encoding for pass_reading\n",
        "\n",
        "data['pass_reading'] = le.fit_transform(data['pass_reading'])\n",
        "data['pass_reading'].value_counts()"
      ],
      "execution_count": 0,
      "outputs": [
        {
          "output_type": "execute_result",
          "data": {
            "text/plain": [
              "1    974\n",
              "0     26\n",
              "Name: pass_reading, dtype: int64"
            ]
          },
          "metadata": {
            "tags": []
          },
          "execution_count": 206
        }
      ]
    },
    {
      "metadata": {
        "id": "c_DXag2R_OIp",
        "colab_type": "code",
        "outputId": "43f88b31-2adc-4d2a-8f18-62068cdb4cca",
        "colab": {
          "base_uri": "https://localhost:8080/",
          "height": 73
        }
      },
      "cell_type": "code",
      "source": [
        "# label encoding for pass_writing\n",
        "\n",
        "data['pass_writing'] = le.fit_transform(data['pass_writing'])\n",
        "data['pass_writing'].value_counts()"
      ],
      "execution_count": 0,
      "outputs": [
        {
          "output_type": "execute_result",
          "data": {
            "text/plain": [
              "1    968\n",
              "0     32\n",
              "Name: pass_writing, dtype: int64"
            ]
          },
          "metadata": {
            "tags": []
          },
          "execution_count": 207
        }
      ]
    },
    {
      "metadata": {
        "id": "ItRtcvtDACEh",
        "colab_type": "code",
        "outputId": "0b6dd4e9-dfe5-4994-866a-742516b3c178",
        "colab": {
          "base_uri": "https://localhost:8080/",
          "height": 73
        }
      },
      "cell_type": "code",
      "source": [
        "# label encoding for status\n",
        "\n",
        "data['status'] = le.fit_transform(data['status'])\n",
        "data['status'].value_counts()"
      ],
      "execution_count": 0,
      "outputs": [
        {
          "output_type": "execute_result",
          "data": {
            "text/plain": [
              "1    949\n",
              "0     51\n",
              "Name: status, dtype: int64"
            ]
          },
          "metadata": {
            "tags": []
          },
          "execution_count": 208
        }
      ]
    },
    {
      "metadata": {
        "id": "Ktnb-_N1AUbZ",
        "colab_type": "code",
        "outputId": "515e73d6-a1cb-4d2b-c27d-bc8a6b09871f",
        "colab": {
          "base_uri": "https://localhost:8080/",
          "height": 129
        }
      },
      "cell_type": "code",
      "source": [
        "# label encoding for grades\n",
        "# we have to map values to each of the categories\n",
        "\n",
        "data['grades'] = data['grades'].replace('O', 0)\n",
        "data['grades'] = data['grades'].replace('A', 1)\n",
        "data['grades'] = data['grades'].replace('B', 2)\n",
        "data['grades'] = data['grades'].replace('C', 3)\n",
        "data['grades'] = data['grades'].replace('D', 4)\n",
        "data['grades'] = data['grades'].replace('E', 5)\n",
        "\n",
        "data['race/ethnicity'].value_counts()"
      ],
      "execution_count": 0,
      "outputs": [
        {
          "output_type": "execute_result",
          "data": {
            "text/plain": [
              "3    319\n",
              "4    262\n",
              "2    190\n",
              "5    140\n",
              "1     89\n",
              "Name: race/ethnicity, dtype: int64"
            ]
          },
          "metadata": {
            "tags": []
          },
          "execution_count": 209
        }
      ]
    },
    {
      "metadata": {
        "id": "9fcJDzBNJZHT",
        "colab_type": "code",
        "outputId": "27ddb324-ce80-4535-b84e-566493b8c5df",
        "colab": {
          "base_uri": "https://localhost:8080/",
          "height": 36
        }
      },
      "cell_type": "code",
      "source": [
        "data.shape"
      ],
      "execution_count": 0,
      "outputs": [
        {
          "output_type": "execute_result",
          "data": {
            "text/plain": [
              "(1000, 15)"
            ]
          },
          "metadata": {
            "tags": []
          },
          "execution_count": 210
        }
      ]
    },
    {
      "metadata": {
        "id": "tfaXk6JBbiNZ",
        "colab_type": "code",
        "outputId": "f233545e-91ef-4f6a-f6ed-4b1886603b53",
        "colab": {
          "base_uri": "https://localhost:8080/",
          "height": 54
        }
      },
      "cell_type": "code",
      "source": [
        "# splitting the dependent and independent variables\n",
        "\n",
        "x = data.iloc[:,:14]\n",
        "y = data.iloc[:,14]\n",
        "\n",
        "print(x.shape)\n",
        "print(y.shape)"
      ],
      "execution_count": 0,
      "outputs": [
        {
          "output_type": "stream",
          "text": [
            "(1000, 14)\n",
            "(1000,)\n"
          ],
          "name": "stdout"
        }
      ]
    },
    {
      "metadata": {
        "id": "CLHjid6FY13N",
        "colab_type": "code",
        "outputId": "348964a1-6a7b-4096-8603-4a531fe873e5",
        "colab": {
          "base_uri": "https://localhost:8080/",
          "height": 92
        }
      },
      "cell_type": "code",
      "source": [
        "# splitting the dataset into training and test sets\n",
        "\n",
        "from sklearn.model_selection import train_test_split\n",
        "\n",
        "x_train, x_test, y_train, y_test = train_test_split(x, y, test_size = 0.25, random_state = 45)\n",
        "\n",
        "print(x_train.shape)\n",
        "print(y_train.shape)\n",
        "print(x_test.shape)\n",
        "print(y_test.shape)"
      ],
      "execution_count": 0,
      "outputs": [
        {
          "output_type": "stream",
          "text": [
            "(750, 14)\n",
            "(750,)\n",
            "(250, 14)\n",
            "(250,)\n"
          ],
          "name": "stdout"
        }
      ]
    },
    {
      "metadata": {
        "id": "ciauOTq_b04w",
        "colab_type": "code",
        "outputId": "de29f2bf-2e9b-4f8d-c089-f00e4d676d01",
        "colab": {
          "base_uri": "https://localhost:8080/",
          "height": 74
        }
      },
      "cell_type": "code",
      "source": [
        "# importing the MinMaxScaler\n",
        "from sklearn.preprocessing import MinMaxScaler\n",
        "\n",
        "# creating a scaler\n",
        "mm = MinMaxScaler()\n",
        "\n",
        "# feeding the independent variable into the scaler\n",
        "x_train = mm.fit_transform(x_train)\n",
        "x_test = mm.transform(x_test)\n"
      ],
      "execution_count": 0,
      "outputs": [
        {
          "output_type": "stream",
          "text": [
            "/usr/local/lib/python3.6/dist-packages/sklearn/preprocessing/data.py:323: DataConversionWarning: Data with input dtype int64, float64 were all converted to float64 by MinMaxScaler.\n",
            "  return self.partial_fit(X, y)\n"
          ],
          "name": "stderr"
        }
      ]
    },
    {
      "metadata": {
        "id": "t3e-fhJPKtFm",
        "colab_type": "code",
        "colab": {}
      },
      "cell_type": "code",
      "source": [
        "# applying principal components analysis\n",
        "\n",
        "from sklearn.decomposition import PCA\n",
        "\n",
        "# creating a principal component analysis model\n",
        "#pca = PCA(n_components = None)\n",
        "\n",
        "# feeding the independent variables to the PCA model\n",
        "#x_train = pca.fit_transform(x_train)\n",
        "#x_test = pca.transform(x_test)\n",
        "\n",
        "# visualising the principal components that will explain the highest share of variance\n",
        "#explained_variance = pca.explained_variance_ratio_\n",
        "#print(explained_variance)\n",
        "\n",
        "# creating a principal component analysis model\n",
        "#pca = PCA(n_components = 2)\n",
        "\n",
        "# feeding the independent variables to the PCA model\n",
        "#x_train = pca.fit_transform(x_train)\n",
        "#x_test = pca.transform(x_test)"
      ],
      "execution_count": 0,
      "outputs": []
    },
    {
      "metadata": {
        "id": "7KJx14EzKk91",
        "colab_type": "text"
      },
      "cell_type": "markdown",
      "source": [
        "**Modelling**"
      ]
    },
    {
      "metadata": {
        "id": "P6fR-dCXN4SK",
        "colab_type": "text"
      },
      "cell_type": "markdown",
      "source": [
        "**Logistic Regression**"
      ]
    },
    {
      "metadata": {
        "id": "EVJHYo1IhJ2k",
        "colab_type": "code",
        "outputId": "eed70f37-79b7-4aa6-8041-66e6c86cdd9f",
        "colab": {
          "base_uri": "https://localhost:8080/",
          "height": 149
        }
      },
      "cell_type": "code",
      "source": [
        "from sklearn.linear_model import  LogisticRegression\n",
        "\n",
        "# creating a model\n",
        "model = LogisticRegression()\n",
        "\n",
        "# feeding the training data to the model\n",
        "model.fit(x_train, y_train)\n",
        "\n",
        "# predicting the test set results\n",
        "y_pred = model.predict(x_test)\n",
        "\n",
        "# calculating the classification accuracies\n",
        "print(\"Training Accuracy :\", model.score(x_train, y_train))\n",
        "print(\"Testing Accuracy :\", model.score(x_test, y_test))\n"
      ],
      "execution_count": 0,
      "outputs": [
        {
          "output_type": "stream",
          "text": [
            "Training Accuracy : 0.7786666666666666\n",
            "Testing Accuracy : 0.768\n"
          ],
          "name": "stdout"
        },
        {
          "output_type": "stream",
          "text": [
            "/usr/local/lib/python3.6/dist-packages/sklearn/linear_model/logistic.py:433: FutureWarning: Default solver will be changed to 'lbfgs' in 0.22. Specify a solver to silence this warning.\n",
            "  FutureWarning)\n",
            "/usr/local/lib/python3.6/dist-packages/sklearn/linear_model/logistic.py:460: FutureWarning: Default multi_class will be changed to 'auto' in 0.22. Specify the multi_class option to silence this warning.\n",
            "  \"this warning.\", FutureWarning)\n"
          ],
          "name": "stderr"
        }
      ]
    },
    {
      "metadata": {
        "id": "3aK-UV7jRE2D",
        "colab_type": "code",
        "outputId": "5b67c319-18a8-4268-d78d-232a81e159b1",
        "colab": {
          "base_uri": "https://localhost:8080/",
          "height": 129
        }
      },
      "cell_type": "code",
      "source": [
        "# printing the confusion matrix\n",
        "\n",
        "from sklearn.metrics import confusion_matrix\n",
        "\n",
        "# creating a confusion matrix\n",
        "cm = confusion_matrix(y_test, y_pred)\n",
        "\n",
        "# printing the confusion matrix\n",
        "print(cm)"
      ],
      "execution_count": 0,
      "outputs": [
        {
          "output_type": "stream",
          "text": [
            "[[ 2  9  0  0  0  0]\n",
            " [ 0 15 17  0  0  0]\n",
            " [ 0  2 56 14  0  0]\n",
            " [ 0  0  6 44  8  0]\n",
            " [ 0  0  0  2 59  0]\n",
            " [ 0  0  0  0  0 16]]\n"
          ],
          "name": "stdout"
        }
      ]
    },
    {
      "metadata": {
        "id": "ujNMPnsXKqfT",
        "colab_type": "text"
      },
      "cell_type": "markdown",
      "source": [
        "**Random Forest**"
      ]
    },
    {
      "metadata": {
        "id": "st1bVJlgPvr2",
        "colab_type": "code",
        "outputId": "1288b059-af96-4f25-ce18-c5a6ba6da90e",
        "colab": {
          "base_uri": "https://localhost:8080/",
          "height": 112
        }
      },
      "cell_type": "code",
      "source": [
        "from sklearn.ensemble import RandomForestClassifier\n",
        "\n",
        "# creating a model\n",
        "model = RandomForestClassifier()\n",
        "\n",
        "# feeding the training data to the model\n",
        "model.fit(x_train, y_train)\n",
        "\n",
        "# predicting the x-test results\n",
        "y_pred = model.predict(x_test)\n",
        "\n",
        "# calculating the accuracies\n",
        "print(\"Training Accuracy :\", model.score(x_train, y_train))\n",
        "print(\"Testing Accuracy :\", model.score(x_test, y_test))"
      ],
      "execution_count": 0,
      "outputs": [
        {
          "output_type": "stream",
          "text": [
            "Training Accuracy : 1.0\n",
            "Testing Accuracy : 0.996\n"
          ],
          "name": "stdout"
        },
        {
          "output_type": "stream",
          "text": [
            "/usr/local/lib/python3.6/dist-packages/sklearn/ensemble/forest.py:246: FutureWarning: The default value of n_estimators will change from 10 in version 0.20 to 100 in 0.22.\n",
            "  \"10 in version 0.20 to 100 in 0.22.\", FutureWarning)\n"
          ],
          "name": "stderr"
        }
      ]
    },
    {
      "metadata": {
        "id": "17rfXUPzQlvk",
        "colab_type": "code",
        "outputId": "f4bec713-a072-4588-8cca-e6069a3bdbd3",
        "colab": {
          "base_uri": "https://localhost:8080/",
          "height": 129
        }
      },
      "cell_type": "code",
      "source": [
        "# printing the confusion matrix\n",
        "\n",
        "from sklearn.metrics import confusion_matrix\n",
        "\n",
        "# creating a confusion matrix\n",
        "cm = confusion_matrix(y_test, y_pred)\n",
        "\n",
        "# printing the confusion matrix\n",
        "print(cm)"
      ],
      "execution_count": 0,
      "outputs": [
        {
          "output_type": "stream",
          "text": [
            "[[11  0  0  0  0  0]\n",
            " [ 0 32  0  0  0  0]\n",
            " [ 0  0 72  0  0  0]\n",
            " [ 0  0  0 58  0  0]\n",
            " [ 0  0  0  0 61  0]\n",
            " [ 0  0  0  0  1 15]]\n"
          ],
          "name": "stdout"
        }
      ]
    },
    {
      "metadata": {
        "id": "-h5wuSOfVHk4",
        "colab_type": "code",
        "outputId": "4d0561c3-4dfe-4428-dc56-e48a55048cbd",
        "colab": {
          "base_uri": "https://localhost:8080/",
          "height": 73
        }
      },
      "cell_type": "code",
      "source": [
        "# k fold cross validation \n",
        "\n",
        "from sklearn.model_selection import cross_val_score\n",
        "\n",
        "# computing accuracies for 20 different model's accuracy\n",
        "accuracies = cross_val_score(estimator = model, X = x_train, y = y_train, cv = 20)\n",
        "print(accuracies)\n",
        "\n",
        "# computing mean of accuaracies obtained by all the models\n",
        "print(\"mean accuracy :\", accuracies.mean())\n",
        "\n",
        "# computing the standard variance of the models\n",
        "print(\"mean standard variance :\", accuracies.std())"
      ],
      "execution_count": 0,
      "outputs": [
        {
          "output_type": "stream",
          "text": [
            "[1. 1. 1. 1. 1. 1. 1. 1. 1. 1. 1. 1. 1. 1. 1. 1. 1. 1. 1. 1.]\n",
            "mean accuracy : 1.0\n",
            "mean standard variance : 0.0\n"
          ],
          "name": "stdout"
        }
      ]
    },
    {
      "metadata": {
        "id": "NLUnNmY_RLmN",
        "colab_type": "text"
      },
      "cell_type": "markdown",
      "source": [
        "**Decision Forest**"
      ]
    },
    {
      "metadata": {
        "id": "cZvzebMFQcZO",
        "colab_type": "code",
        "outputId": "ec3c6d7b-90a8-4b96-dec1-2746eaa41308",
        "colab": {
          "base_uri": "https://localhost:8080/",
          "height": 54
        }
      },
      "cell_type": "code",
      "source": [
        "from sklearn.tree import DecisionTreeClassifier\n",
        "\n",
        "# creating a model\n",
        "model = DecisionTreeClassifier()\n",
        "\n",
        "# feeding the training data to the model\n",
        "model.fit(x_train, y_train)\n",
        "\n",
        "# predicting the x-test results\n",
        "y_pred = model.predict(x_test)\n",
        "\n",
        "# calculating the accuracies\n",
        "print(\"Training Accuracy :\", model.score(x_train, y_train))\n",
        "print(\"Testing Accuracy :\", model.score(x_test, y_test))"
      ],
      "execution_count": 0,
      "outputs": [
        {
          "output_type": "stream",
          "text": [
            "Training Accuracy : 1.0\n",
            "Testing Accuracy : 1.0\n"
          ],
          "name": "stdout"
        }
      ]
    },
    {
      "metadata": {
        "id": "MYo6K7puRj6_",
        "colab_type": "code",
        "outputId": "263bcb1c-4de3-49d8-c32c-cdfb6c2e7eb4",
        "colab": {
          "base_uri": "https://localhost:8080/",
          "height": 129
        }
      },
      "cell_type": "code",
      "source": [
        "# printing the confusion matrix\n",
        "\n",
        "from sklearn.metrics import confusion_matrix\n",
        "\n",
        "# creating a confusion matrix\n",
        "cm = confusion_matrix(y_test, y_pred)\n",
        "\n",
        "# printing the confusion matrix\n",
        "print(cm)"
      ],
      "execution_count": 0,
      "outputs": [
        {
          "output_type": "stream",
          "text": [
            "[[11  0  0  0  0  0]\n",
            " [ 0 32  0  0  0  0]\n",
            " [ 0  0 72  0  0  0]\n",
            " [ 0  0  0 58  0  0]\n",
            " [ 0  0  0  0 61  0]\n",
            " [ 0  0  0  0  0 16]]\n"
          ],
          "name": "stdout"
        }
      ]
    },
    {
      "metadata": {
        "id": "U0hMQ5FiSzoh",
        "colab_type": "code",
        "outputId": "779752b9-981d-4d78-b4e4-a8780f019422",
        "colab": {
          "base_uri": "https://localhost:8080/",
          "height": 73
        }
      },
      "cell_type": "code",
      "source": [
        "# k fold cross validation \n",
        "\n",
        "from sklearn.model_selection import cross_val_score\n",
        "\n",
        "# computing accuracies for 20 different model's accuracy\n",
        "accuracies = cross_val_score(estimator = model, X = x_train, y = y_train, cv = 20)\n",
        "print(accuracies)\n",
        "\n",
        "# computing mean of accuaracies obtained by all the models\n",
        "print(\"mean accuracy :\", accuracies.mean())\n",
        "\n",
        "# computing the standard variance of the models\n",
        "print(\"mean standard variance :\", accuracies.std())\n",
        "   "
      ],
      "execution_count": 0,
      "outputs": [
        {
          "output_type": "stream",
          "text": [
            "[1. 1. 1. 1. 1. 1. 1. 1. 1. 1. 1. 1. 1. 1. 1. 1. 1. 1. 1. 1.]\n",
            "mean accuracy : 1.0\n",
            "mean standard variance : 0.0\n"
          ],
          "name": "stdout"
        }
      ]
    },
    {
      "metadata": {
        "id": "-qX9Y2FWQkza",
        "colab_type": "text"
      },
      "cell_type": "markdown",
      "source": [
        "**Support Vector Machine**"
      ]
    },
    {
      "metadata": {
        "id": "kgbwZfCAVeS6",
        "colab_type": "code",
        "outputId": "55dcaf90-0f11-4cb2-81ff-6bad274da5bd",
        "colab": {
          "base_uri": "https://localhost:8080/",
          "height": 112
        }
      },
      "cell_type": "code",
      "source": [
        "from sklearn.svm import SVC\n",
        "\n",
        "# creating a model\n",
        "model = SVC()\n",
        "\n",
        "# feeding the training data to the model\n",
        "model.fit(x_train, y_train)\n",
        "\n",
        "# predicting the x-test results\n",
        "y_pred = model.predict(x_test)\n",
        "\n",
        "# calculating the accuracies\n",
        "print(\"Training Accuracy :\", model.score(x_train, y_train))\n",
        "print(\"Testing Accuracy :\", model.score(x_test, y_test))"
      ],
      "execution_count": 0,
      "outputs": [
        {
          "output_type": "stream",
          "text": [
            "Training Accuracy : 0.732\n",
            "Testing Accuracy : 0.76\n"
          ],
          "name": "stdout"
        },
        {
          "output_type": "stream",
          "text": [
            "/usr/local/lib/python3.6/dist-packages/sklearn/svm/base.py:196: FutureWarning: The default value of gamma will change from 'auto' to 'scale' in version 0.22 to account better for unscaled features. Set gamma explicitly to 'auto' or 'scale' to avoid this warning.\n",
            "  \"avoid this warning.\", FutureWarning)\n"
          ],
          "name": "stderr"
        }
      ]
    },
    {
      "metadata": {
        "id": "QNhhAW-PVq6P",
        "colab_type": "code",
        "outputId": "94861392-0397-4d1f-ba53-4b74b8780d1c",
        "colab": {
          "base_uri": "https://localhost:8080/",
          "height": 129
        }
      },
      "cell_type": "code",
      "source": [
        "# printing the confusion matrix\n",
        "\n",
        "from sklearn.metrics import confusion_matrix\n",
        "\n",
        "# creating a confusion matrix\n",
        "cm = confusion_matrix(y_test, y_pred)\n",
        "\n",
        "# printing the confusion matrix\n",
        "print(cm)"
      ],
      "execution_count": 0,
      "outputs": [
        {
          "output_type": "stream",
          "text": [
            "[[ 0 11  0  0  0  0]\n",
            " [ 0  9 23  0  0  0]\n",
            " [ 0  0 64  8  0  0]\n",
            " [ 0  0  5 50  3  0]\n",
            " [ 0  0  0 10 51  0]\n",
            " [ 0  0  0  0  0 16]]\n"
          ],
          "name": "stdout"
        }
      ]
    }
  ]
}